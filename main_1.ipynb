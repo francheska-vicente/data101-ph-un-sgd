{
 "cells": [
  {
   "cell_type": "markdown",
   "id": "96092f7a",
   "metadata": {},
   "source": [
    "# DATASET & CHARTS"
   ]
  },
  {
   "cell_type": "markdown",
   "id": "70b1e777",
   "metadata": {},
   "source": [
    "## Basic Libraries"
   ]
  },
  {
   "cell_type": "code",
   "execution_count": null,
   "id": "129833f5",
   "metadata": {},
   "outputs": [],
   "source": [
    "import pandas as pd\n",
    "import numpy as np\n",
    "import geopandas as gpd\n",
    "import matplotlib.pyplot as plt\n",
    "\n",
    "from shapely.geometry import Point\n",
    "\n",
    "import plotly.express as px\n",
    "import plotly.graph_objects as go\n",
    "\n",
    "\n",
    "%pylab inline"
   ]
  },
  {
   "cell_type": "markdown",
   "id": "5a4c3e46",
   "metadata": {},
   "source": [
    "## Dataset"
   ]
  },
  {
   "cell_type": "code",
   "execution_count": null,
   "id": "8b9e5b9e",
   "metadata": {},
   "outputs": [],
   "source": [
    "url = 'https://raw.githubusercontent.com/francheska-vicente/datapre-project/main_v2/data_output/combined_data.csv'\n",
    "sdg_data = pd.read_csv (url)\n",
    "sdg_data "
   ]
  },
  {
   "cell_type": "code",
   "execution_count": null,
   "id": "f545272d",
   "metadata": {},
   "outputs": [],
   "source": []
  },
  {
   "cell_type": "code",
   "execution_count": null,
   "id": "badd3a60",
   "metadata": {},
   "outputs": [],
   "source": []
  },
  {
   "cell_type": "markdown",
   "id": "bb0fd939",
   "metadata": {},
   "source": [
    "## Line Charts"
   ]
  },
  {
   "cell_type": "code",
   "execution_count": null,
   "id": "6fe06dbd",
   "metadata": {},
   "outputs": [],
   "source": [
    "regions_selected = []"
   ]
  },
  {
   "cell_type": "code",
   "execution_count": null,
   "id": "827c0e72",
   "metadata": {},
   "outputs": [],
   "source": [
    "regions_selected = ['NCR: National Capital Region', 'Region 1: Ilocos Region']"
   ]
  },
  {
   "cell_type": "code",
   "execution_count": null,
   "id": "a72bd19c",
   "metadata": {},
   "outputs": [],
   "source": [
    "indicators_selected = []"
   ]
  },
  {
   "cell_type": "code",
   "execution_count": null,
   "id": "a7cb4468",
   "metadata": {},
   "outputs": [],
   "source": [
    "indicators_selected = ['1.4.1 Net JHS Enrolment Rate', '1.2.1 Poverty Proportion']"
   ]
  },
  {
   "cell_type": "code",
   "execution_count": null,
   "id": "bfd7a46f",
   "metadata": {
    "scrolled": true
   },
   "outputs": [],
   "source": [
    "two_region = pd.DataFrame ()\n",
    "\n",
    "for region in regions_selected:\n",
    "    if len (indicators_selected) > 1:\n",
    "        temp_region = sdg_data [sdg_data['Geolocation'] == region][['Year', indicators_selected [0], indicators_selected [1]]]\n",
    "    else:\n",
    "        temp_region = sdg_data [sdg_data['Geolocation'] == region][['Year', indicators_selected [0]]]\n",
    "    \n",
    "    temp_region = pd.concat ([sdg_data['Geolocation'], temp_region], axis=1)\n",
    "    \n",
    "    temp_region = temp_region.dropna (thresh = len (indicators_selected) + 1)\n",
    "    temp_region ['Year'] = temp_region ['Year'].astype('int')\n",
    "    \n",
    "    two_region = pd.concat([two_region, temp_region])\n",
    "    \n",
    "two_region = two_region.reset_index (drop = True)\n",
    "two_region"
   ]
  },
  {
   "cell_type": "code",
   "execution_count": null,
   "id": "30e9fb4a",
   "metadata": {},
   "outputs": [],
   "source": [
    "def line_update_layout (fig, title, label):\n",
    "    fig.update_layout(\n",
    "        # TITLE\n",
    "\n",
    "        title={'text' : title, 'y': 0.95, 'x' : 0.5, # Position of the title\n",
    "              # 'xanchor': 'center', 'yanchor': 'top'\n",
    "              },\n",
    "        title_font_family=\"Cambria\",\n",
    "        title_font_color=\"#000000\",\n",
    "        title_font_size=20,\n",
    "\n",
    "\n",
    "        # axis and legend font\n",
    "        font_family=\"Cambria\",\n",
    "        font_color=\"#000000\",\n",
    "\n",
    "\n",
    "        # x-axis\n",
    "        xaxis_title='Year',\n",
    "\n",
    "        xaxis=dict(\n",
    "            showline=True,\n",
    "            showgrid=False,\n",
    "            showticklabels=True,\n",
    "            linecolor='#000000',\n",
    "            linewidth=2,\n",
    "            ticks='outside',\n",
    "            tickfont=dict(\n",
    "                family='Cambria',\n",
    "                size=16,\n",
    "                color='#000000',\n",
    "            ),\n",
    "        ),\n",
    "\n",
    "\n",
    "        # y-axis\n",
    "        yaxis_title = label, \n",
    "\n",
    "        yaxis=dict(\n",
    "            showgrid=False,\n",
    "            showline=True,\n",
    "            showticklabels=True,\n",
    "            linecolor='#000000',\n",
    "            linewidth=2,\n",
    "            ticks='outside',\n",
    "            tickfont=dict(\n",
    "                family='Cambria',\n",
    "                size=16,\n",
    "                color='#000000',\n",
    "            ),\n",
    "\n",
    "        ),\n",
    "\n",
    "        hovermode=\"x unified\",\n",
    "\n",
    "        autosize=True,\n",
    "\n",
    "        # MARGIN\n",
    "        # margin=dict(autoexpand=False, l=100, r=20,t=110),\n",
    "\n",
    "        showlegend=True,\n",
    "\n",
    "        paper_bgcolor=\"LightSteelBlue\", # BG COLOR OUTSIDE CHART\n",
    "\n",
    "        plot_bgcolor='light gray' # BG COLOR INSIDE CHART\n",
    "    )\n",
    "    \n",
    "    return fig"
   ]
  },
  {
   "cell_type": "code",
   "execution_count": null,
   "id": "127e6845",
   "metadata": {},
   "outputs": [],
   "source": [
    "print (indicators_selected)"
   ]
  },
  {
   "cell_type": "code",
   "execution_count": null,
   "id": "25ef147d",
   "metadata": {},
   "outputs": [],
   "source": [
    "for indicator in indicators_selected:\n",
    "    label = \" \".join (indicator.split (' ') [1 : ])\n",
    "    df_visualization = two_region [['Geolocation', 'Year', indicator]]\n",
    "    df_visualization = df_visualization.dropna ()\n",
    "    \n",
    "    x_axis_values = df_visualization ['Year'].unique ()\n",
    "    \n",
    "    fig = px.line(df_visualization, x='Year', y = indicator, markers=True,\n",
    "             labels={indicator: label}, color = 'Geolocation') \n",
    "    title = \" \".join (indicator.split (' ') [1 : ]) + ' per Year'\n",
    "    fig = line_update_layout (fig, title, label)\n",
    "    fig.update_xaxes(type='category')\n",
    "    \n",
    "    fig.show ()"
   ]
  },
  {
   "cell_type": "markdown",
   "id": "f32b9748",
   "metadata": {},
   "source": [
    "## Bar Charts"
   ]
  },
  {
   "cell_type": "markdown",
   "id": "9b14cec2",
   "metadata": {},
   "source": [
    "### HORIZONTAL BAR CHART"
   ]
  },
  {
   "cell_type": "code",
   "execution_count": null,
   "id": "bd65c56a",
   "metadata": {},
   "outputs": [],
   "source": [
    "regions_selected = []"
   ]
  },
  {
   "cell_type": "code",
   "execution_count": null,
   "id": "dd550a05",
   "metadata": {},
   "outputs": [],
   "source": [
    "regions_selected = ['NCR: National Capital Region', 'Region 1: Ilocos Region']"
   ]
  },
  {
   "cell_type": "code",
   "execution_count": null,
   "id": "082566ad",
   "metadata": {},
   "outputs": [],
   "source": [
    "indicators_selected = []"
   ]
  },
  {
   "cell_type": "code",
   "execution_count": null,
   "id": "fb286dbd",
   "metadata": {},
   "outputs": [],
   "source": [
    "indicators_selected = ['1.4.1 Net JHS Enrolment Rate', '1.2.1 Poverty Proportion']"
   ]
  },
  {
   "cell_type": "code",
   "execution_count": null,
   "id": "c38f3556",
   "metadata": {},
   "outputs": [],
   "source": [
    "two_region = pd.DataFrame ()\n",
    "\n",
    "for indicartor in indicators_selected:\n",
    "    if len (indicators_selected) > 1:\n",
    "        temp_region = sdg_data [['Year', indicators_selected [0], indicators_selected [1]]]\n",
    "    else:\n",
    "        temp_region = sdg_data [['Year', indicators_selected [0]]]\n",
    "    \n",
    "    temp_region = pd.concat ([sdg_data['Geolocation'], temp_region], axis=1)\n",
    "    temp_region = temp_region [temp_region ['Geolocation'] != 'PHILIPPINES']\n",
    "    temp_region = temp_region.dropna (thresh = len (indicators_selected) + 1)\n",
    "    temp_region ['Year'] = temp_region ['Year'].astype('int')\n",
    "    \n",
    "    two_region = pd.concat([two_region, temp_region])\n",
    "    \n",
    "two_region = two_region.reset_index (drop = True)\n",
    "two_region"
   ]
  },
  {
   "cell_type": "raw",
   "id": "4f2059b6",
   "metadata": {},
   "source": [
    "# Change the bar mode\n",
    "def grouped_bar_update_layout (title, label):\n",
    "    fig.update_layout(\n",
    "\n",
    "        barmode='group',\n",
    "\n",
    "\n",
    "        # TITLE\n",
    "\n",
    "        title={'text':title, 'y':0.95, 'x':0.2, # Position of the title\n",
    "              # 'xanchor': 'center', 'yanchor': 'top'\n",
    "              },    \n",
    "        title_font_family=\"Cambria\",\n",
    "        title_font_color=\"#000000\",\n",
    "        title_font_size=20,\n",
    "\n",
    "\n",
    "        # axis font\n",
    "        font_family=\"Cambria\",\n",
    "        font_color=\"#000000\",\n",
    "\n",
    "\n",
    "        # x-axis 1\n",
    "        xaxis1=dict(\n",
    "            showline=True,\n",
    "            showgrid=False,\n",
    "            showticklabels=True,\n",
    "            linecolor='#000000',\n",
    "            linewidth=2,\n",
    "            ticks='outside',\n",
    "            tickfont=dict(\n",
    "                family='Cambria',\n",
    "                size=14,\n",
    "                color='#000000',\n",
    "            ),\n",
    "        ),\n",
    "\n",
    "\n",
    "        # x-axis 2\n",
    "        xaxis2=dict(\n",
    "            showline=True,\n",
    "            showgrid=False,\n",
    "            showticklabels=True,\n",
    "            linecolor='#000000',\n",
    "            linewidth=2,\n",
    "            ticks='outside',\n",
    "            tickfont=dict(\n",
    "                family='Cambria',\n",
    "                size=14,\n",
    "                color='#000000',\n",
    "            ),\n",
    "        ),\n",
    "\n",
    "\n",
    "        # y-axis\n",
    "        yaxis_title = 'Geolocation',\n",
    "        yaxis=dict(\n",
    "            {'categoryorder':'total ascending'}, # ascending values from bottom to top\n",
    "            showgrid=False,\n",
    "            showline=True,\n",
    "            showticklabels=True,\n",
    "            linecolor='#000000',\n",
    "            linewidth=2,\n",
    "            ticks='outside',\n",
    "            tickfont=dict(\n",
    "                family='Cambria',\n",
    "                size=10,\n",
    "                color='#000000',\n",
    "            ),\n",
    "        ),\n",
    "\n",
    "\n",
    "        # LEGEND\n",
    "\n",
    "        legend=dict(orientation=\"h\", # horizontal orientation\n",
    "\n",
    "            # entrywidth=70, # spacing in between legends, can't make it work sa akin\n",
    "\n",
    "            yanchor=\"bottom\",\n",
    "            y=1.02,\n",
    "            xanchor=\"right\",\n",
    "            x=1,\n",
    "\n",
    "            traceorder=\"reversed\",\n",
    "\n",
    "            title_font_color=\"#000000\",\n",
    "            title_font_family=\"Times New Roman\",\n",
    "\n",
    "            font=dict(\n",
    "                family=\"Courier\",\n",
    "                size=12,\n",
    "                color=\"black\"\n",
    "                ),\n",
    "\n",
    "            bgcolor=\"LightSteelBlue\", # legend box\n",
    "            bordercolor=\"Black\",\n",
    "            borderwidth=1\n",
    "            ),\n",
    "\n",
    "        hovermode=\"y unified\",\n",
    "\n",
    "        autosize=True,\n",
    "\n",
    "        # margin=dict(autoexpand=False, l=100, r=20,t=110),\n",
    "\n",
    "        showlegend=True,\n",
    "\n",
    "        plot_bgcolor='light grey'\n",
    "\n",
    "    )\n",
    "\n",
    "    return fig"
   ]
  },
  {
   "cell_type": "raw",
   "id": "97f0eec5",
   "metadata": {},
   "source": [
    "list_bars = []\n",
    "list_titles = []\n",
    "for indicator in indicators_selected:\n",
    "    title = \" \".join (indicator.split (' ') [1 : ]) + ' for the Year ' + str (year_values [-1])\n",
    "    list_titles.append (list)\n",
    "    temp_bar = go.Bar(name = title, \n",
    "           y = two_region ['Geolocation'], \n",
    "           x = two_region [indicator], \n",
    "           xaxis = 'x', \n",
    "           offsetgroup =1, \n",
    "           orientation = 'h')\n",
    "    \n",
    "    list_bars.append (temp_bar)"
   ]
  },
  {
   "cell_type": "raw",
   "id": "1d659adf",
   "metadata": {},
   "source": [
    "dict_bars = {}\n",
    "counter = 1\n",
    "\n",
    "for indicator in indicators_selected:\n",
    "    dict_bars ['xaxis' + str (counter)] = {'title': list_titles [counter - 1]}"
   ]
  },
  {
   "cell_type": "code",
   "execution_count": null,
   "id": "c5d1ecc5",
   "metadata": {},
   "outputs": [],
   "source": [
    "def bar_update_layout (fig, title, label):\n",
    "    fig.update_layout(\n",
    "    # TITLE\n",
    "    \n",
    "        title={'text': title, 'y':0.95, 'x':0.5, # Position of the title\n",
    "              # 'xanchor': 'center', 'yanchor': 'top'\n",
    "              },    \n",
    "        title_font_family=\"Cambria\",\n",
    "        title_font_color=\"#000000\",\n",
    "        title_font_size=20,\n",
    "\n",
    "        # axis font\n",
    "        font_family=\"Cambria\",\n",
    "        font_color=\"#000000\",\n",
    "\n",
    "\n",
    "        # x-axis\n",
    "        xaxis_title= label,\n",
    "\n",
    "        xaxis=dict(\n",
    "            showline=True,\n",
    "            showgrid=False,\n",
    "            showticklabels=True,\n",
    "            linecolor='#000000',\n",
    "            linewidth=2,\n",
    "            ticks='outside',\n",
    "            tickfont=dict(\n",
    "                family='Cambria',\n",
    "                size=14,\n",
    "                color='#000000',\n",
    "            ),\n",
    "        ),\n",
    "\n",
    "        # y-axis\n",
    "        yaxis_title='Geolocation',\n",
    "        yaxis=dict(\n",
    "            {'categoryorder':'total ascending'}, # ascending values from bottom to top\n",
    "            showgrid=False,\n",
    "            showline=True,\n",
    "            showticklabels=True,\n",
    "            linecolor='#000000',\n",
    "            linewidth=2,\n",
    "            ticks='outside',\n",
    "            tickfont=dict(\n",
    "                family='Cambria',\n",
    "                size=10,\n",
    "                color='#000000',\n",
    "            ),\n",
    "        ),\n",
    "\n",
    "        autosize=True,\n",
    "\n",
    "        # margin=dict(autoexpand=False, l=100, r=20,t=110),\n",
    "\n",
    "        showlegend=True,\n",
    "\n",
    "        plot_bgcolor='light grey'\n",
    "    )\n",
    "\n",
    "    return fig"
   ]
  },
  {
   "cell_type": "code",
   "execution_count": null,
   "id": "c586320f",
   "metadata": {},
   "outputs": [],
   "source": [
    "geolocation_values = []\n",
    "for temp in sdg_data ['Geolocation'].unique () [1 :]:\n",
    "    temp = temp.split (\":\")\n",
    "    geolocation_values.append (temp [1])"
   ]
  },
  {
   "cell_type": "code",
   "execution_count": null,
   "id": "bcbaecfe",
   "metadata": {},
   "outputs": [],
   "source": [
    "for indicator in indicators_selected:\n",
    "    label = \" \".join (indicator.split (' ') [1 : ])\n",
    "    df_visualization = two_region [['Geolocation', 'Year', indicator]]\n",
    "    df_visualization = df_visualization.dropna ()\n",
    "    \n",
    "    year_values = df_visualization ['Year'].unique ()\n",
    "    \n",
    "    df_visualization_curr = df_visualization [df_visualization ['Year'] == year_values [-1]]\n",
    "    df_visualization_curr = df_visualization_curr.drop_duplicates ()\n",
    "    fig = px.bar(df_visualization_curr, x = indicator, y = geolocation_values,\n",
    "             labels={indicator: label}, color = 'Geolocation') \n",
    "    title = \" \".join (indicator.split (' ') [1 : ]) + ' of the Year ' + str (year_values [-1])\n",
    "    fig = bar_update_layout (fig, title, label)\n",
    "    \n",
    "    fig.show ()"
   ]
  }
 ],
 "metadata": {
  "kernelspec": {
   "display_name": "Python 3 (ipykernel)",
   "language": "python",
   "name": "python3"
  },
  "language_info": {
   "codemirror_mode": {
    "name": "ipython",
    "version": 3
   },
   "file_extension": ".py",
   "mimetype": "text/x-python",
   "name": "python",
   "nbconvert_exporter": "python",
   "pygments_lexer": "ipython3",
   "version": "3.9.16"
  }
 },
 "nbformat": 4,
 "nbformat_minor": 5
}
